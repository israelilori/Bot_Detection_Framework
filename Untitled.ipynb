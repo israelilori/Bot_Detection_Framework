{
 "cells": [
  {
   "cell_type": "raw",
   "metadata": {},
   "source": [
    "Date: July 2019\n",
    "Objective: Scrape data from Reddit profiles using Praw and exporting to CSV "
   ]
  },
  {
   "cell_type": "code",
   "execution_count": 1,
   "metadata": {},
   "outputs": [],
   "source": [
    "import praw as pr\n",
    "import pandas as pd\n",
    "import datetime as dt"
   ]
  },
  {
   "cell_type": "code",
   "execution_count": 2,
   "metadata": {},
   "outputs": [],
   "source": [
    "#To establish connection to Reddit using credentials\n",
    "reddit = pr.Reddit(client_id='', \\\n",
    "                     client_secret='', \\\n",
    "                     user_agent='', \\\n",
    "                     username='', \\\n",
    "                     password='')"
   ]
  },
  {
   "cell_type": "code",
   "execution_count": 3,
   "metadata": {},
   "outputs": [],
   "source": [
    "#to extract data from a reddit account and save to a variable\n",
    "subreddit = reddit.subreddit('ideasfortheadmins')"
   ]
  },
  {
   "cell_type": "code",
   "execution_count": 4,
   "metadata": {},
   "outputs": [],
   "source": [
    "#Different possibility of topics which can be extracted (top, new, hot, controversial, and gilded)\n",
    "top_subreddit = subreddit.top(limit=1000)\n",
    "new_subreddit = subreddit.new(limit=1000)\n",
    "hot_subreddit = subreddit.hot(limit=1000)\n",
    "controversial_subreddit = subreddit.controversial(limit=1000)\n",
    "#gilded_subreddit = subreddit.gilded(limit=500)"
   ]
  },
  {
   "cell_type": "code",
   "execution_count": 5,
   "metadata": {},
   "outputs": [],
   "source": [
    "#For printing all submissions extracted by the top_subreddit call\n",
    "#for submission in subreddit.top(limit=1):\n",
    " #   print(submission.title, submission.id)"
   ]
  },
  {
   "cell_type": "code",
   "execution_count": 6,
   "metadata": {},
   "outputs": [],
   "source": [
    "#Create an empty dictionary to save information about top posts to be scraped \n",
    "headers_dict = { \"title\":[], \\\n",
    "                \"score\":[], \\\n",
    "                \"id\":[], \\\n",
    "                \"url\":[], \\\n",
    "                \"comms_num\": [], \\\n",
    "                \"created\": [], \\\n",
    "                \"body\":[]\n",
    "              }\n",
    "#In here we are going to extract the top most-voted posts of the account\n",
    "for submission in top_subreddit:\n",
    "    headers_dict[\"title\"].append(submission.title)\n",
    "    headers_dict[\"score\"].append(submission.score)\n",
    "    headers_dict[\"id\"].append(submission.id)\n",
    "    headers_dict[\"url\"].append(submission.url)\n",
    "    headers_dict[\"comms_num\"].append(submission.num_comments)\n",
    "    headers_dict[\"created\"].append(submission.created)\n",
    "    headers_dict[\"body\"].append(submission.selftext)\n",
    "    "
   ]
  },
  {
   "cell_type": "code",
   "execution_count": 7,
   "metadata": {},
   "outputs": [],
   "source": [
    "#Convert to a Dataframe\n",
    "headers_data = pd.DataFrame(headers_dict)\n",
    "\n",
    "#Define a function to get a time stamp of the posts\n",
    "def get_date(created):\n",
    "    return dt.datetime.fromtimestamp(created)\n",
    "\n",
    "#Create a column and apply the fnction \n",
    "_timestamp = headers_data[\"created\"].apply(get_date)\n",
    "headers_data = headers_data.assign(timestamp = _timestamp)\n",
    "\n",
    "#Export to a csv file\n",
    "#headers_data.to_csv('ideasfortheadmins.csv', index=False) "
   ]
  },
  {
   "cell_type": "code",
   "execution_count": 8,
   "metadata": {},
   "outputs": [],
   "source": [
    "##########################"
   ]
  },
  {
   "cell_type": "code",
   "execution_count": 9,
   "metadata": {},
   "outputs": [],
   "source": [
    "#Create an empty dictionary to save information about top posts to be scraped \n",
    "headers_dict = { \"title\":[], \\\n",
    "                \"score\":[], \\\n",
    "                \"id\":[], \\\n",
    "                \"url\":[], \\\n",
    "                \"comms_num\": [], \\\n",
    "                \"created\": [], \\\n",
    "                \"body\":[]\n",
    "              }\n",
    "#In here we are going to extract new posts posted by the account\n",
    "for submission in new_subreddit:\n",
    "    headers_dict[\"title\"].append(submission.title)\n",
    "    headers_dict[\"score\"].append(submission.score)\n",
    "    headers_dict[\"id\"].append(submission.id)\n",
    "    headers_dict[\"url\"].append(submission.url)\n",
    "    headers_dict[\"comms_num\"].append(submission.num_comments)\n",
    "    headers_dict[\"created\"].append(submission.created)\n",
    "    headers_dict[\"body\"].append(submission.selftext)"
   ]
  },
  {
   "cell_type": "code",
   "execution_count": 10,
   "metadata": {},
   "outputs": [],
   "source": [
    "#Convert to a Dataframe\n",
    "headers_data = pd.DataFrame(headers_dict)\n",
    "\n",
    "#Define a function to get a time stamp of the posts\n",
    "def get_date(created):\n",
    "    return dt.datetime.fromtimestamp(created)\n",
    "\n",
    "#Create a column and apply the fnction \n",
    "_timestamp = headers_data[\"created\"].apply(get_date)\n",
    "headers_data = headers_data.assign(timestamp = _timestamp)\n",
    "\n",
    "#Export to a csv file\n",
    "headers_data.to_csv('ideasfortheadmins2.csv', index=False)"
   ]
  },
  {
   "cell_type": "code",
   "execution_count": 11,
   "metadata": {},
   "outputs": [],
   "source": [
    "##########################"
   ]
  },
  {
   "cell_type": "code",
   "execution_count": 12,
   "metadata": {},
   "outputs": [],
   "source": [
    "#Create an empty dictionary to save information about top posts to be scraped \n",
    "headers_dict = { \"title\":[], \\\n",
    "                \"score\":[], \\\n",
    "                \"id\":[], \\\n",
    "                \"url\":[], \\\n",
    "                \"comms_num\": [], \\\n",
    "                \"created\": [], \\\n",
    "                \"body\":[]\n",
    "              }\n",
    "#In here we are going to extract hot posts posted by the account\n",
    "for submission in hot_subreddit:\n",
    "    headers_dict[\"title\"].append(submission.title)\n",
    "    headers_dict[\"score\"].append(submission.score)\n",
    "    headers_dict[\"id\"].append(submission.id)\n",
    "    headers_dict[\"url\"].append(submission.url)\n",
    "    headers_dict[\"comms_num\"].append(submission.num_comments)\n",
    "    headers_dict[\"created\"].append(submission.created)\n",
    "    headers_dict[\"body\"].append(submission.selftext)"
   ]
  },
  {
   "cell_type": "code",
   "execution_count": 13,
   "metadata": {},
   "outputs": [],
   "source": [
    "#Convert to a Dataframe\n",
    "headers_data = pd.DataFrame(headers_dict)\n",
    "\n",
    "#Define a function to get a time stamp of the posts\n",
    "def get_date(created):\n",
    "    return dt.datetime.fromtimestamp(created)\n",
    "\n",
    "#Create a column and apply the fnction \n",
    "_timestamp = headers_data[\"created\"].apply(get_date)\n",
    "headers_data = headers_data.assign(timestamp = _timestamp)\n",
    "\n",
    "#Export to a csv file\n",
    "headers_data.to_csv('ideasfortheadmins3.csv', index=False)"
   ]
  },
  {
   "cell_type": "code",
   "execution_count": 14,
   "metadata": {},
   "outputs": [],
   "source": [
    "##########################"
   ]
  },
  {
   "cell_type": "code",
   "execution_count": 15,
   "metadata": {},
   "outputs": [],
   "source": [
    "#Create an empty dictionary to save information about top posts to be scraped \n",
    "headers_dict = { \"title\":[], \\\n",
    "                \"score\":[], \\\n",
    "                \"id\":[], \\\n",
    "                \"url\":[], \\\n",
    "                \"comms_num\": [], \\\n",
    "                \"created\": [], \\\n",
    "                \"body\":[]\n",
    "              }\n",
    "#In here we are going to extract controversial posts posted by the account\n",
    "for submission in controversial_subreddit:\n",
    "    headers_dict[\"title\"].append(submission.title)\n",
    "    headers_dict[\"score\"].append(submission.score)\n",
    "    headers_dict[\"id\"].append(submission.id)\n",
    "    headers_dict[\"url\"].append(submission.url)\n",
    "    headers_dict[\"comms_num\"].append(submission.num_comments)\n",
    "    headers_dict[\"created\"].append(submission.created)\n",
    "    headers_dict[\"body\"].append(submission.selftext)"
   ]
  },
  {
   "cell_type": "code",
   "execution_count": 16,
   "metadata": {},
   "outputs": [],
   "source": [
    "#Convert to a Dataframe\n",
    "headers_data = pd.DataFrame(headers_dict)\n",
    "\n",
    "#Define a function to get a time stamp of the posts\n",
    "def get_date(created):\n",
    "    return dt.datetime.fromtimestamp(created)\n",
    "\n",
    "#Create a column and apply the fnction \n",
    "_timestamp = headers_data[\"created\"].apply(get_date)\n",
    "headers_data = headers_data.assign(timestamp = _timestamp)\n",
    "\n",
    "#Export to a csv file\n",
    "headers_data.to_csv('ideasfortheadmins4.csv', index=False)"
   ]
  },
  {
   "cell_type": "code",
   "execution_count": 17,
   "metadata": {},
   "outputs": [],
   "source": [
    "##########################"
   ]
  },
  {
   "cell_type": "code",
   "execution_count": null,
   "metadata": {},
   "outputs": [],
   "source": []
  }
 ],
 "metadata": {
  "kernelspec": {
   "display_name": "Python 3",
   "language": "python",
   "name": "python3"
  },
  "language_info": {
   "codemirror_mode": {
    "name": "ipython",
    "version": 3
   },
   "file_extension": ".py",
   "mimetype": "text/x-python",
   "name": "python",
   "nbconvert_exporter": "python",
   "pygments_lexer": "ipython3",
   "version": "3.6.8"
  }
 },
 "nbformat": 4,
 "nbformat_minor": 4
}
