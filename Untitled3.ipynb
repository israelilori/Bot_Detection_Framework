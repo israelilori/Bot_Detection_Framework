{
 "cells": [
  {
   "cell_type": "raw",
   "metadata": {},
   "source": [
    "Date: June 2019\n",
    "Objective: Scrape data from Twitter via Hashtags using Tweepy"
   ]
  },
  {
   "cell_type": "code",
   "execution_count": 1,
   "metadata": {},
   "outputs": [],
   "source": [
    "import pandas as pd\n",
    "import numpy as np\n",
    "import csv\n",
    "from tweepy.streaming import StreamListener\n",
    "from tweepy import OAuthHandler\n",
    "from tweepy import Stream\n",
    "from tweepy import API\n",
    "from tweepy import Cursor"
   ]
  },
  {
   "cell_type": "code",
   "execution_count": 2,
   "metadata": {},
   "outputs": [],
   "source": [
    "#Variables that contains the user credentials to access Twitter API \n",
    "access_token = \"\"\n",
    "access_token_secret = \"\"\n",
    "consumer_key = \"\"\n",
    "consumer_secret = \"\""
   ]
  },
  {
   "cell_type": "code",
   "execution_count": null,
   "metadata": {},
   "outputs": [],
   "source": [
    "#Create the Stream Listener class\n",
    "class TwitterStreamer():\n",
    "    ##To stream live tweets\n",
    "    def stream_tweets(self, fetched_tweets_filename, hash_tag_list):\n",
    "    \n",
    "        listener = StdOutListener(fetched_tweets_filename)\n",
    "        auth = OAuthHandler(consumer_key, consumer_secret)\n",
    "        auth.set_access_token(access_token, access_token_secret)\n",
    "    \n",
    "        stream = Stream(auth, listener)\n",
    "    \n",
    "        stream.filter(track=hash_tag_list)\n",
    "\n",
    "class StdOutListener(StreamListener):   \n",
    "####Listener to print out basic tweets to StdOut\n",
    "      \n",
    "    def __init__ (self, fetched_tweets_filename):\n",
    "        self.fetched_tweets_filename = fetched_tweets_filename\n",
    "        \n",
    "    def on_data(self, data):\n",
    "        try:\n",
    "            #print (data)\n",
    "            with open (self.fetched_tweets_filename, 'a') as tf:\n",
    "                tf.write(data)\n",
    "            return True;\n",
    "        except BaseException as e:\n",
    "            print (\"Error on data: %s\" % str(e))\n",
    "        return True\n",
    "    \n",
    "    def on_error(self, status):\n",
    "        if status == 420:\n",
    "            return False\n",
    "        print (status)\n",
    "    \n",
    "    \n",
    "if __name__ == \"__main__\":\n",
    "    \n",
    "    hash_tag_list = [\"#IndependenceDay\", \"Frank Lampard\", \"#ThursdayThoughts\", \"#keeptheban\", \"#StrangerThings3\", \"Ariel\"]\n",
    "    fetched_tweets_filename = \"tweets4.json\"\n",
    "    \n",
    "    twitter_streamer = TwitterStreamer()\n",
    "    twitter_streamer.stream_tweets (fetched_tweets_filename, hash_tag_list)\n",
    "    "
   ]
  },
  {
   "cell_type": "code",
   "execution_count": null,
   "metadata": {},
   "outputs": [],
   "source": []
  },
  {
   "cell_type": "code",
   "execution_count": null,
   "metadata": {},
   "outputs": [],
   "source": []
  },
  {
   "cell_type": "code",
   "execution_count": null,
   "metadata": {},
   "outputs": [],
   "source": []
  }
 ],
 "metadata": {
  "kernelspec": {
   "display_name": "Python 3",
   "language": "python",
   "name": "python3"
  },
  "language_info": {
   "codemirror_mode": {
    "name": "ipython",
    "version": 3
   },
   "file_extension": ".py",
   "mimetype": "text/x-python",
   "name": "python",
   "nbconvert_exporter": "python",
   "pygments_lexer": "ipython3",
   "version": "3.6.8"
  }
 },
 "nbformat": 4,
 "nbformat_minor": 4
}
