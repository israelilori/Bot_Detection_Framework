{
 "cells": [
  {
   "cell_type": "raw",
   "metadata": {},
   "source": [
    "Date: July 2019\n",
    "Method: Feature Extraction, Engineering and Data Preprocessing/Cleaning\n",
    "Objective: Creating a DataFrame from Twitter JSON file"
   ]
  },
  {
   "cell_type": "code",
   "execution_count": 1,
   "metadata": {},
   "outputs": [],
   "source": [
    "##Preprocessing the Text File\n",
    "import pandas as pd\n",
    "import numpy as np\n",
    "import textblob\n",
    "from textblob import TextBlob\n",
    "import re"
   ]
  },
  {
   "cell_type": "code",
   "execution_count": 2,
   "metadata": {},
   "outputs": [],
   "source": [
    "#TweetFrame = pd.read_json('tweets.json',  lines = True)\n",
    "#TweetFrame\n",
    "\n",
    "# Import the necessary package to process data in JSON format\n",
    "try:\n",
    "    import json\n",
    "except ImportError:\n",
    "    import simplejson as json\n",
    "\n",
    "# We use the file saved from last step as example\n",
    "tweets_filename = 'bot.json'\n",
    "tweets_file = open(tweets_filename, \"r\")\n",
    "\n",
    "\n"
   ]
  },
  {
   "cell_type": "code",
   "execution_count": 3,
   "metadata": {},
   "outputs": [],
   "source": [
    "dataFrame = { \"text\":[], \\\n",
    "             \"id\":[], \\\n",
    "             \"Date Created\":[], \\\n",
    "             \"Source\":[], \\\n",
    "             \"Screen Name\":[], \\\n",
    "             \"Verified\":[], \\\n",
    "             \"Profile Description\":[], \\\n",
    "             \"Location\":[], \\\n",
    "             \"User Followers Count\":[], \\\n",
    "             \"User Friends Count\":[], \\\n",
    "             \"Default Profile\":[], \\\n",
    "             \"Default Profile Image\":[], \\\n",
    "             \"Reply Count\":[], \\\n",
    "             \"Retweet Count\":[], \\\n",
    "             \"Favourite Count\":[], \\\n",
    "             \"Listed Count\":[], \\\n",
    "             \"Status Count\":[], \\\n",
    "             \n",
    "}\n",
    "\n",
    "for line in tweets_file:\n",
    "    try:\n",
    "        # Read in one line of the file, convert it into a json object \n",
    "        tweet = json.loads(line.strip())\n",
    "        dataFrame['text'].append(tweet['text'])\n",
    "        dataFrame['id'].append(tweet['id'])\n",
    "        dataFrame['Date Created'].append(tweet['created_at'])\n",
    "        dataFrame['Source'].append(tweet['source'])\n",
    "        dataFrame['Screen Name'].append(tweet['user']['screen_name'])\n",
    "        dataFrame['Verified'].append(tweet['user']['verified'])\n",
    "        dataFrame['Profile Description'].append(tweet['user']['description'])\n",
    "        dataFrame['Location'].append(tweet['user']['location'])\n",
    "        dataFrame['User Followers Count'].append(tweet['user']['followers_count'])\n",
    "        dataFrame['User Friends Count'].append(tweet['user']['friends_count'])\n",
    "        dataFrame['Default Profile'].append(tweet['user']['default_profile'])\n",
    "        dataFrame['Default Profile Image'].append(tweet['user']['default_profile_image'])\n",
    "        dataFrame['Reply Count'].append(tweet['reply_count'])\n",
    "        dataFrame['Retweet Count'].append(tweet['retweet_count'])\n",
    "        dataFrame['Favourite Count'].append(tweet['favorite_count'])\n",
    "        dataFrame['Listed Count'].append(tweet['user']['listed_count'])\n",
    "        dataFrame['Status Count'].append(tweet['user']['statuses_count'])\n",
    "        \n",
    "    except:\n",
    "        # read in a line is not in JSON format (sometimes error occured)\n",
    "        continue "
   ]
  },
  {
   "cell_type": "code",
   "execution_count": 4,
   "metadata": {},
   "outputs": [],
   "source": [
    "#TweetFrame.to_csv(\"TweetData.csv\")\n",
    "TweetFrame = pd.DataFrame(dataFrame)"
   ]
  },
  {
   "cell_type": "code",
   "execution_count": 5,
   "metadata": {},
   "outputs": [
    {
     "data": {
      "text/html": [
       "<div>\n",
       "<style scoped>\n",
       "    .dataframe tbody tr th:only-of-type {\n",
       "        vertical-align: middle;\n",
       "    }\n",
       "\n",
       "    .dataframe tbody tr th {\n",
       "        vertical-align: top;\n",
       "    }\n",
       "\n",
       "    .dataframe thead th {\n",
       "        text-align: right;\n",
       "    }\n",
       "</style>\n",
       "<table border=\"1\" class=\"dataframe\">\n",
       "  <thead>\n",
       "    <tr style=\"text-align: right;\">\n",
       "      <th></th>\n",
       "      <th>text</th>\n",
       "      <th>id</th>\n",
       "      <th>Date Created</th>\n",
       "      <th>Source</th>\n",
       "      <th>Screen Name</th>\n",
       "      <th>Verified</th>\n",
       "      <th>Profile Description</th>\n",
       "      <th>Location</th>\n",
       "      <th>User Followers Count</th>\n",
       "      <th>User Friends Count</th>\n",
       "      <th>Default Profile</th>\n",
       "      <th>Default Profile Image</th>\n",
       "      <th>Reply Count</th>\n",
       "      <th>Retweet Count</th>\n",
       "      <th>Favourite Count</th>\n",
       "      <th>Listed Count</th>\n",
       "      <th>Status Count</th>\n",
       "    </tr>\n",
       "  </thead>\n",
       "  <tbody>\n",
       "  </tbody>\n",
       "</table>\n",
       "</div>"
      ],
      "text/plain": [
       "Empty DataFrame\n",
       "Columns: [text, id, Date Created, Source, Screen Name, Verified, Profile Description, Location, User Followers Count, User Friends Count, Default Profile, Default Profile Image, Reply Count, Retweet Count, Favourite Count, Listed Count, Status Count]\n",
       "Index: []"
      ]
     },
     "execution_count": 5,
     "metadata": {},
     "output_type": "execute_result"
    }
   ],
   "source": [
    "TweetFrame.head(5)"
   ]
  },
  {
   "cell_type": "code",
   "execution_count": 6,
   "metadata": {},
   "outputs": [],
   "source": [
    "#To perform a text analysis on the tweet text\n",
    "#First we define a function to clean the tweets\n",
    "def clean_tweet(tweet):\n",
    "    return ' '.join(re.sub('(@[A-Za-z0-9]+)|([^0-9A-Za-z \\t])|(\\w+:\\/\\/\\S+)', ' ', tweet).split())\n",
    "\n",
    "#Function for out Sentiment Analyzer\n",
    "def analyze_sentiment(tweet):\n",
    "    analysis = TextBlob(tweet)\n",
    "    if analysis.sentiment.polarity > 0:\n",
    "        return 'Positive'\n",
    "    elif analysis.sentiment.polarity ==0:\n",
    "        return 'Neutral'\n",
    "    else:\n",
    "        return 'Negative'"
   ]
  },
  {
   "cell_type": "code",
   "execution_count": 7,
   "metadata": {},
   "outputs": [],
   "source": [
    "#Create new columns for the cleaned tweets and polarity of the tweet\n",
    "TweetFrame['Clean Tweet'] = TweetFrame['text'].apply(lambda x: clean_tweet(x))\n",
    "TweetFrame['Sentiment'] = TweetFrame['Clean Tweet'].apply(lambda x: analyze_sentiment(x))"
   ]
  },
  {
   "cell_type": "code",
   "execution_count": 8,
   "metadata": {},
   "outputs": [],
   "source": [
    "TweetFrame.to_csv('Bot.csv')"
   ]
  },
  {
   "cell_type": "code",
   "execution_count": null,
   "metadata": {},
   "outputs": [],
   "source": [
    "TweetFrame['Sentiment'].value_counts().plot(kind='pie', autopct='%1.0f%%', colors=[\"red\", \"yellow\", \"blue\"])\n"
   ]
  },
  {
   "cell_type": "code",
   "execution_count": null,
   "metadata": {},
   "outputs": [],
   "source": []
  }
 ],
 "metadata": {
  "kernelspec": {
   "display_name": "Python 3",
   "language": "python",
   "name": "python3"
  },
  "language_info": {
   "codemirror_mode": {
    "name": "ipython",
    "version": 3
   },
   "file_extension": ".py",
   "mimetype": "text/x-python",
   "name": "python",
   "nbconvert_exporter": "python",
   "pygments_lexer": "ipython3",
   "version": "3.6.8"
  }
 },
 "nbformat": 4,
 "nbformat_minor": 4
}
